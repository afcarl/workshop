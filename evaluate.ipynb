{
 "cells": [
  {
   "cell_type": "markdown",
   "metadata": {},
   "source": [
    "# Object Detection Demo For Evaluation"
   ]
  },
  {
   "cell_type": "markdown",
   "metadata": {},
   "source": [
    "<a id='another_cell'></a>"
   ]
  },
  {
   "cell_type": "code",
   "execution_count": null,
   "metadata": {},
   "outputs": [
    {
     "name": "stdout",
     "output_type": "stream",
     "text": [
      "/qydata/htianab/code/models/research/object_detection/utils/visualization_utils.py:25: UserWarning: \n",
      "This call to matplotlib.use() has no effect because the backend has already\n",
      "been chosen; matplotlib.use() must be called *before* pylab, matplotlib.pyplot,\n",
      "or matplotlib.backends is imported for the first time.\n",
      "\n",
      "The backend was *originally* set to 'module://ipykernel.pylab.backend_inline' by the following code:\n",
      "  File \"./code/models/research/object_detection/eval.py\", line 50, in <module>\n",
      "    from object_detection import evaluator\n",
      "  File \"/qydata/htianab/code/models/research/object_detection/evaluator.py\", line 24, in <module>\n",
      "    from object_detection import eval_util\n",
      "  File \"/qydata/htianab/code/models/research/object_detection/eval_util.py\", line 28, in <module>\n",
      "    from object_detection.metrics import coco_evaluation\n",
      "  File \"/qydata/htianab/code/models/research/object_detection/metrics/coco_evaluation.py\", line 20, in <module>\n",
      "    from object_detection.metrics import coco_tools\n",
      "  File \"/qydata/htianab/code/models/research/object_detection/metrics/coco_tools.py\", line 47, in <module>\n",
      "    from pycocotools import coco\n",
      "  File \"/qydata/htianab/code/models/research/pycocotools/coco.py\", line 49, in <module>\n",
      "    import matplotlib.pyplot as plt\n",
      "  File \"/qydata/htianab/software/anaconda3/envs/py3tfCPU/lib/python3.6/site-packages/matplotlib/pyplot.py\", line 71, in <module>\n",
      "    from matplotlib.backends import pylab_setup\n",
      "  File \"/qydata/htianab/software/anaconda3/envs/py3tfCPU/lib/python3.6/site-packages/matplotlib/backends/__init__.py\", line 16, in <module>\n",
      "    line for line in traceback.format_stack()\n",
      "\n",
      "\n",
      "  import matplotlib; matplotlib.use('Agg')  # pylint: disable=multiple-statements\n",
      "INFO:tensorflow:Scale of 0 disables regularizer.\n",
      "INFO:tensorflow:Scale of 0 disables regularizer.\n",
      "INFO:tensorflow:depth of additional conv before box predictor: 0\n",
      "WARNING:tensorflow:From /qydata/htianab/code/models/research/object_detection/core/box_predictor.py:400: calling reduce_mean (from tensorflow.python.ops.math_ops) with keep_dims is deprecated and will be removed in a future version.\n",
      "Instructions for updating:\n",
      "keep_dims is deprecated, use keepdims instead\n",
      "INFO:tensorflow:Scale of 0 disables regularizer.\n",
      "WARNING:tensorflow:From /qydata/htianab/code/models/research/object_detection/core/losses.py:316: softmax_cross_entropy_with_logits (from tensorflow.python.ops.nn_ops) is deprecated and will be removed in a future version.\n",
      "Instructions for updating:\n",
      "\n",
      "Future major versions of TensorFlow will allow gradients to flow\n",
      "into the labels input on backprop by default.\n",
      "\n",
      "See @{tf.nn.softmax_cross_entropy_with_logits_v2}.\n",
      "\n",
      "2018-05-02 18:37:51.719266: I tensorflow/core/platform/cpu_feature_guard.cc:140] Your CPU supports instructions that this TensorFlow binary was not compiled to use: AVX2 FMA\n",
      "INFO:tensorflow:Restoring parameters from ./models/faster_rcnn_inception_v2_coco_2018_01_28/train/model.ckpt-0\n",
      "INFO:tensorflow:Restoring parameters from ./models/faster_rcnn_inception_v2_coco_2018_01_28/train/model.ckpt-0\n",
      "Corrupt JPEG data: 240 extraneous bytes before marker 0xd9\n"
     ]
    }
   ],
   "source": [
    "!python ./code/models/research/object_detection/eval.py \\\n",
    "    --logtostderr \\\n",
    "    --pipeline_config_path=./config/faster_rcnn_inception_v2_pets.config \\\n",
    "    --checkpoint_dir=./models/faster_rcnn_inception_v2_coco_2018_01_28/train \\\n",
    "    --eval_dir=./models/faster_rcnn_inception_v2_coco_2018_01_28/eval"
   ]
  },
  {
   "cell_type": "code",
   "execution_count": null,
   "metadata": {},
   "outputs": [],
   "source": []
  }
 ],
 "metadata": {
  "kernelspec": {
   "display_name": "Python 3",
   "language": "python",
   "name": "python3"
  },
  "language_info": {
   "codemirror_mode": {
    "name": "ipython",
    "version": 3
   },
   "file_extension": ".py",
   "mimetype": "text/x-python",
   "name": "python",
   "nbconvert_exporter": "python",
   "pygments_lexer": "ipython3",
   "version": "3.6.5"
  }
 },
 "nbformat": 4,
 "nbformat_minor": 2
}
